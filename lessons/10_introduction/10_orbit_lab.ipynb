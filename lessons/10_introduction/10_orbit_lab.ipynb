{
  "cells": [
    {
      "cell_type": "markdown",
      "id": "b468cf69",
      "metadata": {},
      "source": [
        "# Orbit Lab\n",
        "\n"
      ]
    },
    {
      "cell_type": "markdown",
      "id": "9e5d5c0f",
      "metadata": {},
      "source": [
        "In the Orbit Lab, we will build a simulation of planets orbiting a sun. As we\n",
        "go, this simulation will get progressively more accurate and will eventually\n",
        "include moons, asteroids and spacecraft. \n",
        "\n",
        "The first module for this course is very similar to the physics lessons in our\n",
        "[Python Games](https://github.com/league-curriculum/Python-Games) class. Even if\n",
        "you have taken Python Games, you should complete these lessons in this soruce,\n",
        "as this will prepare you with a basic understanding of both the physics required\n",
        "to understand orbits and the details of programming graphics with PyGame. \n"
      ]
    }
  ],
  "metadata": {
    "kernelspec": {
      "display_name": "Python-OrbitLab",
      "language": "python",
      "name": "python3"
    },
    "language_info": {
      "codemirror_mode": {
        "name": "ipython",
        "version": 3
      },
      "file_extension": ".py",
      "mimetype": "text/x-python",
      "name": "python",
      "nbconvert_exporter": "python",
      "pygments_lexer": "ipython3",
      "version": "3.13.3"
    },
    "syllabus": {
      "name": "Orbit Lab",
      "uid": "IUh3u37k"
    }
  },
  "nbformat": 4,
  "nbformat_minor": 5
}
