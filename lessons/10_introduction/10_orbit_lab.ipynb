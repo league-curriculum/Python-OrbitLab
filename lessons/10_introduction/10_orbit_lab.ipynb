{
  "cells": [
    {
      "cell_type": "markdown",
      "id": "b468cf69",
      "metadata": {},
      "source": [
        "# Orbit Lab\n",
        "\n"
      ]
    },
    {
      "cell_type": "markdown",
      "id": "9e5d5c0f",
      "metadata": {},
      "source": [
        "In the Orbit Lab, we will build a simulation of planets orbiting a sun. As we\n",
        "go, this simulation will get progressively more accurate and will eventually\n",
        "include moons, asteroids and spacecraft. \n",
        "\n",
        "The first module for this course is very similar to the physics lessons in our\n",
        "[Python Games](https://github.com/league-curriculum/Python-Games) class. Even if\n",
        "you have taken Python Games, you should complete these lessons in this soruce,\n",
        "as this will prepare you with a basic understanding of both the physics required\n",
        "to understand orbits and the details of programming graphics with PyGame. \n"
      ]
    },
    {
      "cell_type": "markdown",
      "id": "afcd4f1d",
      "metadata": {},
      "source": [
        "\n"
      ]
    },
    {
      "cell_type": "code",
      "execution_count": 3,
      "id": "db28848f",
      "metadata": {},
      "outputs": [],
      "source": [
        "# Here is an example of your Celestial Body Class, to get you started. \n",
        "\n",
        "class Game:\n",
        "    pass\n",
        "\n",
        "class CelestialBody:\n",
        "    \"\"\"Base Class for any celestial body in the game, such as planets or moons.\"\"\"\n",
        "\n",
        "    def __init__(self, game: Game):\n",
        "        self.game = game\n",
        "        settings = self.game.settings\n",
        "\n",
        "        # Set your initial position, velocity, and acceleration\n",
        "\n",
        "\n",
        "    def g_force(self, other: \"CelestialBody\"):\n",
        "        \"\"\"Calculate the gravitational force acting on this body due to another body.\"\"\"\n",
        "\n",
        "        pass\n",
        "\n",
        "    def update(self):\n",
        "        \"\"\"Update the planets position, velocity and acceleration\"\"\"\n",
        "\n",
        "        pass\n",
        "\n",
        "    def draw(self, screen):\n",
        "        \"\"\"Draw the planet on the screen\"\"\"\n",
        "\n",
        "        pass\n"
      ]
    },
    {
      "cell_type": "markdown",
      "id": "36d71b1c",
      "metadata": {},
      "source": []
    }
  ],
  "metadata": {
    "kernelspec": {
      "display_name": "Python-OrbitLab",
      "language": "python",
      "name": "python3"
    },
    "language_info": {
      "codemirror_mode": {
        "name": "ipython",
        "version": 3
      },
      "file_extension": ".py",
      "mimetype": "text/x-python",
      "name": "python",
      "nbconvert_exporter": "python",
      "pygments_lexer": "ipython3",
      "version": "3.13.3"
    },
    "syllabus": {
      "uid": "IUh3u37k"
    }
  },
  "nbformat": 4,
  "nbformat_minor": 5
}
