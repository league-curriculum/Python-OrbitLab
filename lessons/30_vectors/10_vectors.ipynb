{
  "cells": [
    {
      "cell_type": "markdown",
      "metadata": {},
      "source": [
        "# Vectors\n",
        "\n",
        "Our programs have all been 2 dimensional, so we need to work with both x and y\n",
        "values, and we've been working with the seperately. Now we can start working\n",
        "with vectors, which are objects that combine the x and y values. In code,\n",
        "vectors are usually typle types and look like this: \n",
        "\n",
        "```python\n",
        "(3,5)\n",
        "```\n",
        "\n",
        "The first number, `3` is the x value, and the second, `5`, is the y value. \n",
        "\n",
        "There are two main ways of thinking about vectors. \n",
        "\n",
        "* One is as a position, a point in space which has a X and Y position. \n",
        "* The other is as a direction and a magnitude, which is a line with a length and\n",
        "a direction.\n",
        "\n",
        "These two ways are actually the same. Any point in space, (x,y) is relative to\n",
        "the origin, which is the point at (0,0), so for the first way of thinking about\n",
        "a vector, a point in space, (x, y) we also imiagine that there is a line from\n",
        "the origin (0,0) to the point (x,y), and that line will have a length and a\n",
        "direction, which is our second way of thinking about vectors. \n",
        "\n",
        "There are a lot of videos and web pages to help you understand vectors in more\n",
        "depth, [here is a good one](https://youtu.be/VqrYlDcZQ54?feature=shared).\n",
        "\n",
        "Here is what the vector (x=8, y=8) looks like when we show it on the X/Y coordinate plane, \n",
        "starting from the origin. \n",
        "\n",
        "<p align=\"center\">\n",
        "    <img src=\"images/v88.png\" alt=\"Vector\">\n",
        "</p>\n",
        "\n",
        "\n",
        "<div style=\"float: right; width: 250px; margin: 10px 0 10px 25px; padding: 15px; border: 1px solid rgba(128, 128, 128, 0.3); border-radius: 5px; background-color: rgba(128, 128, 128, 0.1); font-style: italic; font-size: 0.85em; opacity: 0.9;\">\n",
        "\n",
        "We are using 2 numbers because our games are 2 dimensional, but vectors can have\n",
        "more. If we were creating 3D games, our vectors would have 3 numbers, and\n",
        "mathematicians and physicists often use vectors that have even more numbers.\n",
        "\n",
        "</div> \n",
        "\n",
        "This vector represents the point (8,8) on a grid, and if we draw a line from the\n",
        "origin (0,0) to the point (8,8), we get a line that is 11.3 units long, at an\n",
        "angle of 45 degrees. So, it can both be a point and a line, as long as we can\n",
        "assume a starting point for the line. \n",
        "\n",
        "Since we have a new kind of mathematical object, vectors, that have two numbers\n",
        "in them, like (8,8), we are going to need a new work to refer to regular\n",
        "numbers, like just plain old '8': these regular numbers are called \"scalars\".\n",
        "\n",
        "Here is a really simple Vector class that we can use to represent vectors:\n",
        "\n"
      ]
    },
    {
      "cell_type": "code",
      "execution_count": 10,
      "metadata": {},
      "outputs": [
        {
          "name": "stdout",
          "output_type": "stream",
          "text": [
            "Vector: Vector(4, 4)\n",
            "Magnitude: 5.656854249492381\n",
            "Direction: 45.0°\n"
          ]
        }
      ],
      "source": [
        "# Run me!\n",
        "\n",
        "\n",
        "import math\n",
        "\n",
        "class Vector:\n",
        "    def __init__(self, x, y):\n",
        "        self.x = x\n",
        "        self.y = y\n",
        "\n",
        "    @property\n",
        "    def magnitude(self): # magnitude is the length of the vector\n",
        "        # Magnitude of the vector: sqrt(x^2 + y^2)\n",
        "        return math.sqrt(self.x**2 + self.y**2)\n",
        "\n",
        "    @property\n",
        "    def direction(self):\n",
        "        # Direction (angle) in radians: atan2(y, x)\n",
        "        return math.atan2(self.y, self.x) * 180 / math.pi\n",
        "\n",
        "    def __repr__(self):\n",
        "        return f\"Vector({self.x}, {self.y})\"\n",
        "\n",
        "# Example usage:\n",
        "\n",
        "v = Vector(4, 4)\n",
        "\n",
        "print(f\"Vector: {v}\")\n",
        "print(f\"Magnitude: {v.magnitude}\")\n",
        "print(f\"Direction: {v.direction}°\")\n"
      ]
    },
    {
      "cell_type": "markdown",
      "metadata": {},
      "source": [
        "\n",
        "\n",
        "As you can see, your create the vector by passing in the x and y values, and\n",
        "then you can calculate the length and angle using trigonometry.\n"
      ]
    },
    {
      "cell_type": "markdown",
      "metadata": {},
      "source": [
        "There are two very important things that you can do with a vector: we can\n",
        "multiply a vector by a scalar, and we can add two vectors together. \n",
        "\n",
        "* vector * scalar: Multiply the elements of the vector by the scalar\n",
        "* vector + vector: Add the elements in each position to create a new vector\n",
        "\n",
        "Let's suppose that we have the vectors (2,3) and (4,5) and the scalar 5.\n",
        "\n",
        "* (2,3) * 5 = ( 2*5, 3*5) = (10,15)\n",
        "* (2,3) + (4,5) = ( 2+4, 3+5 ) \n",
        "\n",
        "Multiplying a vector by a scalar is called \"scaling\" the vector; it makes the\n",
        "vector longer or shorter, but does not change its direction. Adding two vectors\n",
        "combines the vectors and produces a new vectors that can have a different\n",
        "magnitude and direction. \n",
        "\n"
      ]
    },
    {
      "cell_type": "markdown",
      "metadata": {},
      "source": [
        "## Assignment\n",
        "\n",
        "In the code cell below, update our Vector class with implmentations of the special methods for multiplication ( `__mul__`) and \n",
        "addition ( `__add__`)\n",
        "\n",
        "You can check the type of an argument with code like this: \n",
        "\n",
        "```python\n",
        "if isinstance(scalar, (int, float)):\n",
        "    print('Yes, it is a scalar')\n",
        "else:\n",
        "    print('No not a scalar')\n",
        "```\n",
        "\n",
        "\n",
        "If the user has provided the wrong types for the arguments, you can signal an error with a line of code like this: \n",
        "\n",
        "```python\n",
        " raise TypeError(\"Can only multiply Vector by a scalar (int or float)\")\n",
        " ```\n",
        "\n",
        "Both of your implementations must return a new Vector, so they should have code like this:\n",
        "\n",
        "```python \n",
        "return Vector( x_value, y_value)\n",
        "```"
      ]
    },
    {
      "cell_type": "code",
      "execution_count": 12,
      "metadata": {},
      "outputs": [
        {
          "name": "stdout",
          "output_type": "stream",
          "text": [
            "Vector: Vector(4, 4)\n",
            "Magnitude: 5.656854249492381\n",
            "Direction: 45.0°\n"
          ]
        }
      ],
      "source": [
        "import math\n",
        "\n",
        "class Vector:\n",
        "    def __init__(self, x, y):\n",
        "        self.x = x\n",
        "        self.y = y\n",
        "\n",
        "    @property\n",
        "    def magnitude(self): # magnitude is the length of the vector\n",
        "        # Magnitude of the vector: sqrt(x^2 + y^2)\n",
        "        return math.sqrt(self.x**2 + self.y**2)\n",
        "\n",
        "    @property\n",
        "    def direction(self):\n",
        "        # Direction (angle) in radians: atan2(y, x)\n",
        "        return math.atan2(self.y, self.x) * 180 / math.pi\n",
        "\n",
        "    def __repr__(self):\n",
        "        return f\"Vector({self.x}, {self.y})\"\n",
        "    \n",
        "\n",
        "    def __mul__(self, scalar):\n",
        "        \"\"\"Multiply the vector by a scalar value.\"\"\"\n",
        "\n",
        "        pass\n",
        "\n",
        "    def __add__(self, other):\n",
        "        pass\n",
        "\n",
        "# Example usage:\n",
        "v = Vector(4, 4)\n",
        "\n",
        "print(f\"Vector: {v}\")\n",
        "print(f\"Magnitude: {v.magnitude}\")\n",
        "print(f\"Direction: {v.direction}°\")\n",
        "\n",
        "# Add more example usage to test the __mul__ and __add__ methods\n"
      ]
    },
    {
      "cell_type": "markdown",
      "metadata": {},
      "source": [
        "## PyGame Vector2\n",
        "\n",
        "Now that you've done all that work creating your own vector class, we aren't going to use it anymore. Sorry, sometimes you write code you don't use, but we wanted you to really understand vectors. \n",
        "\n",
        "Instead, we are going to use the Vector class that is built into Pygame: \n",
        "\n",
        "```python\n",
        "from pygame.math import Vector2\n",
        "\n",
        "```\n",
        "\n",
        "Suppose that we have a vector called `p1`, which is the position of the player, at\n",
        "x=100 and y=100. We can write this as:\n",
        "\n"
      ]
    },
    {
      "cell_type": "code",
      "execution_count": 3,
      "metadata": {},
      "outputs": [
        {
          "name": "stdout",
          "output_type": "stream",
          "text": [
            "pygame 2.6.1 (SDL 2.28.4, Python 3.13.3)\n",
            "Hello from the pygame community. https://www.pygame.org/contribute.html\n"
          ]
        },
        {
          "data": {
            "text/plain": [
              "<Vector2(100, 100)>"
            ]
          },
          "execution_count": 3,
          "metadata": {},
          "output_type": "execute_result"
        }
      ],
      "source": [
        "\n",
        "from pygame.math import Vector2 # Using PyGame's Vector, which has a lot more features\n",
        "\n",
        "p1 = Vector2(100, 100)\n",
        "\n",
        "p1 "
      ]
    },
    {
      "cell_type": "markdown",
      "metadata": {},
      "source": [
        "When you add vectors, you really just add the x and y values together. "
      ]
    },
    {
      "cell_type": "code",
      "execution_count": 4,
      "metadata": {},
      "outputs": [
        {
          "name": "stdout",
          "output_type": "stream",
          "text": [
            "[30, 30]\n"
          ]
        }
      ],
      "source": [
        "from  pygame import Vector2\n",
        "\n",
        "v1 = Vector2(10, 10 )\n",
        "v2 = Vector2(20, 20 )\n",
        "\n",
        "\n",
        "print(v1 + v2) # Same as Vector(10+20, 10+20) = Vector(30, 30)"
      ]
    },
    {
      "cell_type": "markdown",
      "metadata": {},
      "source": [
        "\n",
        "Now, suppose that we have a vector called `move`, which is the amount we want to\n",
        "move the player. We can move the player just by adding the move vector to the\n",
        "player vector. We can write this as:\n",
        "\n"
      ]
    },
    {
      "cell_type": "code",
      "execution_count": 5,
      "metadata": {},
      "outputs": [
        {
          "data": {
            "text/plain": [
              "<Vector2(110, 100)>"
            ]
          },
          "execution_count": 5,
          "metadata": {},
          "output_type": "execute_result"
        }
      ],
      "source": [
        "\n",
        "p1 = Vector2(100, 100)\n",
        "move = Vector2(10, 0) # Move 10 pixels to the right, none up/down\n",
        "\n",
        "p1 += move  # same as: p1 = p1 + move\n",
        "p1"
      ]
    },
    {
      "cell_type": "markdown",
      "metadata": {},
      "source": [
        "\n",
        "Now, `p1` is at x=110 and y=100. To get that, we added the x values of the two\n",
        "vectors together, and the y values of the two vectors together. So the new x\n",
        "value is 100 + 10 = 110, and the new y value is 100 + 0 = 100.\n"
      ]
    },
    {
      "cell_type": "markdown",
      "metadata": {},
      "source": [
        "\n",
        "For a more detaied example. run the program `01a_vector_example.py.` This program has a custom version\n",
        "of the vector class that displays on a larger grid. Here is what the program's output looks like:\n",
        "\n",
        "![Vector Example](images/vector_grid.png)\n",
        "\n",
        "\n",
        "Here are the vectors that are displayed in the program:\n",
        "\n",
        "```python \n",
        "v0 = Vector20(0,0)\n",
        "v1 = Vector20(8, 8)  \n",
        "v2 = Vector20(3, -12)  \n",
        "v3 = Vector20(-4, -2)  \n",
        "v4 = Vector20(-12, 0) \n",
        "v5 = Vector20(0, 12)\n",
        "```\n",
        "\n",
        "Compare the code to the output to see how the vectors are displayed on the grid. Notice that we can move from one place\n",
        "to another on the grid by adding the vectors together. For example, to move from v0 to v1, we can add v0 to v1. \n",
        "\n",
        "\n",
        "\n",
        "## Rotations\n",
        "\n",
        "Since vectors have a direction, it would make sense that we'd want to change the\n",
        "direction. This operation is called a 'rotation'.\n",
        "\n",
        "Suppose that we want to move the player 100 pixels in the direction of 45\n",
        "degrees. The easiest way to write this is to create the vector a 100 units long\n",
        "in the x direction, then rotate it to 45 degrees. \n"
      ]
    },
    {
      "cell_type": "code",
      "execution_count": 6,
      "metadata": {},
      "outputs": [
        {
          "data": {
            "text/plain": [
              "<Vector2(170.711, 170.711)>"
            ]
          },
          "execution_count": 6,
          "metadata": {},
          "output_type": "execute_result"
        }
      ],
      "source": [
        "p1 = Vector2(100, 100) # Player's current position\n",
        "move = Vector2(100, 0) # 100 unit long vector\n",
        "move.rotate_ip(45) # rotate the vector \"in-place\"\n",
        "\n",
        "p1 += move\n",
        "\n",
        "p1"
      ]
    },
    {
      "cell_type": "markdown",
      "metadata": {},
      "source": [
        "Notice the `_ip` suffix after `rotate`; this stands for \"in place\" and means we are going to change the vector. Without the `_ip` suffix, the `.rotate()` will return a new vector, so we'd have to write it like this: \n",
        "\n",
        "```python\n",
        "move = move.rotate()\n",
        "```"
      ]
    },
    {
      "cell_type": "markdown",
      "metadata": {},
      "source": [
        "Rotating a vector changes both the x and y values. The x value is changed by \n",
        "`cos(angle) * x`, and the y value is changed by `sin(angle) * y`. \n"
      ]
    },
    {
      "cell_type": "code",
      "execution_count": 7,
      "metadata": {},
      "outputs": [
        {
          "name": "stdout",
          "output_type": "stream",
          "text": [
            "[10, 10]\n",
            "[7.07107, 7.07107]\n",
            "[17.0711, 17.0711]\n"
          ]
        }
      ],
      "source": [
        "v1 = Vector2(10,10)\n",
        "move = Vector2(10, 0).rotate(45)\n",
        "\n",
        "print(v1)\n",
        "print(move)\n",
        "\n",
        "print(v1 + move)\n"
      ]
    },
    {
      "cell_type": "markdown",
      "metadata": {},
      "source": [
        "## Assignment 1\n",
        "\n",
        "Draw a square with Vectors. \n",
        "\n",
        "For this assignment we will be using our own vector class, `Vector20` which is\n",
        "based on `Vector2`, but has extensions for plotting a grid with numbers and\n",
        "labels. Use it just like you would a `Vector2`\n",
        "\n",
        "1. Open and read `Vector Example` and run the program.\n",
        "2. Create vector v1 with x = 0 and y = 1 \n",
        "3. Scale the vector by 10 with multiplication, then rotate it by 90 degrees so\n",
        "   it points to the right.\n",
        "4. Draw the vector from the position (5,5) on the grid.\n",
        "5. Create a new vector v2 by rotating v1 by 90 dregrees, and draw it from the\n",
        "   ending position of v1 ( which is the return value from the draw_v20()\n",
        "   function )\n",
        "6. Continue rotating and drawing until you have drawn a square. "
      ]
    }
  ],
  "metadata": {
    "kernelspec": {
      "display_name": "Python-OrbitLab",
      "language": "python",
      "name": "python3"
    },
    "language_info": {
      "codemirror_mode": {
        "name": "ipython",
        "version": 3
      },
      "file_extension": ".py",
      "mimetype": "text/x-python",
      "name": "python",
      "nbconvert_exporter": "python",
      "pygments_lexer": "ipython3",
      "version": "3.13.3"
    },
    "syllabus": {
      "name": "Vectors",
      "uid": "2F6jwP3p"
    }
  },
  "nbformat": 4,
  "nbformat_minor": 2
}
