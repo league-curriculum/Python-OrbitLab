{
  "cells": [
    {
      "cell_type": "markdown",
      "id": "943d3e49",
      "metadata": {},
      "source": [
        "# Stage 1\n",
        "\n",
        "In the first stage of the simulation, we will build a basic simuation structure for one sun and one or more planets. \n",
        "\n",
        "1) Start with the program you completed in Python Games,\n",
        "   `03_Vectors/04_gravity_bounce_vec.py`. Copy that program into this directory\n",
        "   as `stage1.py`\n",
        "2) Change your `Player` class to `CelestialBody` and remove any code replated to\n",
        "   jumping and bouncing off the edges of the screen. You can also create a new\n",
        "   `CelestialBody` class, since you will be deleting most of the code from\n",
        "   Player. \n",
        "3) Create derived classes for `Sun` and `Planet`. \n",
        "4) In `CelestialBody`, create a method that calculates the force acting on the\n",
        "   body due to another `CelestialBody`\n",
        "5) Setup your system with one Sun and one planet, give the planet an initial velocity\n",
        "\n",
        "\n",
        "For your first version, we can use the reference frame of the sun, which means\n",
        "that you don't need to update the position of the sun, not calculate the forces\n",
        "acting on it, but you definitely do nned to calculate the sun's force acting on\n",
        "the planet. \n",
        "\n",
        "\n",
        "# Tips\n",
        "\n",
        "* Be sure that all of your equations are physically correct and have proper\n",
        "  (implied)  units. You must have a delta time setting for the time step. \n",
        "* Figure out a reasonable conversion for real physical distance to pixels, and\n",
        "  create a conversion function so you can define your values in normal MKS\n",
        "  units. For instance, you might assign 1 AU to 500 pixels, so the Earths orbit\n",
        "  would be 1000 pixels wide. \n",
        "* Calculate the initial velocity of your planets using the orbial velocity\n",
        "  equation. You should be able to intiialize your planet to a distance from the\n",
        "  sun and have it's orbital velocity automatically calculated to produce a\n",
        "  near-circular orbit. "
      ]
    },
    {
      "cell_type": "markdown",
      "id": "d6762f12",
      "metadata": {},
      "source": []
    }
  ],
  "metadata": {
    "kernelspec": {
      "display_name": "Python-OrbitLab",
      "language": "python",
      "name": "python3"
    },
    "language_info": {
      "name": "python",
      "version": "3.13.3"
    },
    "syllabus": {
      "uid": "ZJMrVLnN"
    }
  },
  "nbformat": 4,
  "nbformat_minor": 5
}